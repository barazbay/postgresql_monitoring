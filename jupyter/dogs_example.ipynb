{
 "cells": [
  {
   "cell_type": "markdown",
   "metadata": {},
   "source": [
    "https://www.kaggle.com/stassl/displaying-inline-images-in-pandas-dataframe"
   ]
  },
  {
   "cell_type": "code",
   "execution_count": 4,
   "metadata": {},
   "outputs": [],
   "source": [
    "import glob\n",
    "import random\n",
    "import base64\n",
    "import pandas as pd\n",
    "\n",
    "from PIL import Image\n",
    "from io import BytesIO\n",
    "from IPython.display import HTML"
   ]
  },
  {
   "cell_type": "code",
   "execution_count": 5,
   "metadata": {},
   "outputs": [
    {
     "name": "stderr",
     "output_type": "stream",
     "text": [
      "<ipython-input-5-a8661c9d7d70>:1: FutureWarning: Passing a negative integer is deprecated in version 1.0 and will not be supported in future version. Instead, use None to not limit the column width.\n",
      "  pd.set_option('display.max_colwidth', -1)\n"
     ]
    }
   ],
   "source": [
    "pd.set_option('display.max_colwidth', -1)\n",
    "\n",
    "def get_thumbnail(path):\n",
    "    i = Image.open(path)\n",
    "    i.thumbnail((150, 150), Image.LANCZOS)\n",
    "    return i\n",
    "\n",
    "def image_base64(im):\n",
    "    if isinstance(im, str):\n",
    "        im = get_thumbnail(im)\n",
    "    with BytesIO() as buffer:\n",
    "        im.save(buffer, 'jpeg')\n",
    "        return base64.b64encode(buffer.getvalue()).decode()\n",
    "\n",
    "def image_formatter(im):\n",
    "    return f'<img src=\"data:image/jpeg;base64,{image_base64(im)}\">'\n",
    "\n"
   ]
  },
  {
   "cell_type": "code",
   "execution_count": 6,
   "metadata": {
    "scrolled": true
   },
   "outputs": [
    {
     "data": {
      "text/html": [
       "<div>\n",
       "<style scoped>\n",
       "    .dataframe tbody tr th:only-of-type {\n",
       "        vertical-align: middle;\n",
       "    }\n",
       "\n",
       "    .dataframe tbody tr th {\n",
       "        vertical-align: top;\n",
       "    }\n",
       "\n",
       "    .dataframe thead th {\n",
       "        text-align: right;\n",
       "    }\n",
       "</style>\n",
       "<table border=\"1\" class=\"dataframe\">\n",
       "  <thead>\n",
       "    <tr style=\"text-align: right;\">\n",
       "      <th></th>\n",
       "      <th>id</th>\n",
       "      <th>file</th>\n",
       "      <th>image</th>\n",
       "    </tr>\n",
       "  </thead>\n",
       "  <tbody>\n",
       "    <tr>\n",
       "      <th>0</th>\n",
       "      <td>1</td>\n",
       "      <td>./input/images/1.jpeg</td>\n",
       "      <td>&lt;PIL.JpegImagePlugin.JpegImageFile image mode=RGB size=150x112 at 0x7FE810497DF0&gt;</td>\n",
       "    </tr>\n",
       "    <tr>\n",
       "      <th>1</th>\n",
       "      <td>2</td>\n",
       "      <td>./input/images/2.jpeg</td>\n",
       "      <td>&lt;PIL.JpegImagePlugin.JpegImageFile image mode=RGB size=150x86 at 0x7FE80FC4C490&gt;</td>\n",
       "    </tr>\n",
       "  </tbody>\n",
       "</table>\n",
       "</div>"
      ],
      "text/plain": [
       "   id                   file  \\\n",
       "0  1   ./input/images/1.jpeg   \n",
       "1  2   ./input/images/2.jpeg   \n",
       "\n",
       "                                                                               image  \n",
       "0  <PIL.JpegImagePlugin.JpegImageFile image mode=RGB size=150x112 at 0x7FE810497DF0>  \n",
       "1  <PIL.JpegImagePlugin.JpegImageFile image mode=RGB size=150x86 at 0x7FE80FC4C490>   "
      ]
     },
     "execution_count": 6,
     "metadata": {},
     "output_type": "execute_result"
    }
   ],
   "source": [
    "dogs = pd.read_csv('./input/labels.csv')\n",
    "# dogs = dogs.sample(20)\n",
    "dogs['file'] = dogs.id.map(lambda id: f'./input/images/{id}.jpeg')\n",
    "dogs['image'] = dogs.file.map(lambda f: get_thumbnail(f))\n",
    "dogs.head()"
   ]
  },
  {
   "cell_type": "code",
   "execution_count": 7,
   "metadata": {},
   "outputs": [
    {
     "data": {
      "text/html": [
       "<table border=\"1\" class=\"dataframe\">\n",
       "  <thead>\n",
       "    <tr style=\"text-align: right;\">\n",
       "      <th></th>\n",
       "      <th>id</th>\n",
       "      <th>image</th>\n",
       "    </tr>\n",
       "  </thead>\n",
       "  <tbody>\n",
       "    <tr>\n",
       "      <th>0</th>\n",
       "      <td>1</td>\n",
       "      <td><img src=\"data:image/jpeg;base64,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\"></td>\n",
       "    </tr>\n",
       "    <tr>\n",
       "      <th>1</th>\n",
       "      <td>2</td>\n",
       "      <td><img src=\"data:image/jpeg;base64,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\"></td>\n",
       "    </tr>\n",
       "  </tbody>\n",
       "</table>"
      ],
      "text/plain": [
       "<IPython.core.display.HTML object>"
      ]
     },
     "execution_count": 7,
     "metadata": {},
     "output_type": "execute_result"
    }
   ],
   "source": [
    "# displaying PIL.Image objects embedded in dataframe\n",
    "HTML(dogs[['id', 'image']].to_html(formatters={'image': image_formatter}, escape=False))"
   ]
  },
  {
   "cell_type": "code",
   "execution_count": null,
   "metadata": {},
   "outputs": [],
   "source": []
  }
 ],
 "metadata": {
  "kernelspec": {
   "display_name": "Python 3",
   "language": "python",
   "name": "python3"
  },
  "language_info": {
   "codemirror_mode": {
    "name": "ipython",
    "version": 3
   },
   "file_extension": ".py",
   "mimetype": "text/x-python",
   "name": "python",
   "nbconvert_exporter": "python",
   "pygments_lexer": "ipython3",
   "version": "3.8.2"
  }
 },
 "nbformat": 4,
 "nbformat_minor": 4
}
