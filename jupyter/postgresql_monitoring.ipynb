{
 "cells": [
  {
   "cell_type": "code",
   "execution_count": 6,
   "metadata": {},
   "outputs": [],
   "source": [
    "metric_list = './data/monitoring_tools/PMM/metrics.yml'\n"
   ]
  },
  {
   "cell_type": "code",
   "execution_count": 20,
   "metadata": {},
   "outputs": [
    {
     "name": "stdout",
     "output_type": "stream",
     "text": [
      "                                pg_replication.query  \\\n",
      "0  SELECT EXTRACT(EPOCH FROM (now() - pg_last_xac...   \n",
      "\n",
      "                              pg_replication.metrics  \\\n",
      "0  [{'lag': 'Replication lag behind master in sec...   \n",
      "\n",
      "                                 pg_postmaster.query  \\\n",
      "0  SELECT pg_postmaster_start_time as start_time_...   \n",
      "\n",
      "                               pg_postmaster.metrics  \\\n",
      "0  [{'start_time_seconds': 'Time at which postmas...   \n",
      "\n",
      "                           pg_stat_user_tables.query  \\\n",
      "0  SELECT schemaname, relname, seq_scan, seq_tup_...   \n",
      "\n",
      "                         pg_stat_user_tables.metrics  \\\n",
      "0  [{'schemaname': 'Name of the schema that this ...   \n",
      "\n",
      "                         pg_statio_user_tables.query  \\\n",
      "0  SELECT schemaname, relname, heap_blks_read, he...   \n",
      "\n",
      "                       pg_statio_user_tables.metrics  \\\n",
      "0  [{'schemaname': 'Name of the schema that this ...   \n",
      "\n",
      "                                   pg_database.query  \\\n",
      "0   SELECT pg_database.datname, pg_database_size(...   \n",
      "\n",
      "                                 pg_database.metrics  \\\n",
      "0  [{'datname': 'Name of the database'}, {'size':...   \n",
      "\n",
      "                            pg_stat_statements.query  \\\n",
      "0  SELECT pg_get_userbyid(userid) as user, pg_dat...   \n",
      "\n",
      "                          pg_stat_statements.metrics  \n",
      "0  [{'user': 'The user who executed the statement...  \n"
     ]
    },
    {
     "name": "stderr",
     "output_type": "stream",
     "text": [
      "<ipython-input-20-996756dc848f>:5: YAMLLoadWarning: calling yaml.load() without Loader=... is deprecated, as the default Loader is unsafe. Please read https://msg.pyyaml.org/load for full details.\n",
      "  df = pd.io.json.json_normalize(yaml.load(f))\n",
      "<ipython-input-20-996756dc848f>:5: FutureWarning: pandas.io.json.json_normalize is deprecated, use pandas.json_normalize instead\n",
      "  df = pd.io.json.json_normalize(yaml.load(f))\n"
     ]
    }
   ],
   "source": [
    "import pandas as pd\n",
    "import yaml\n",
    "\n",
    "with open(metric_list, 'r') as f:\n",
    "    df = pd.io.json.json_normalize(yaml.load(f))\n",
    "\n",
    "print(df.head())"
   ]
  },
  {
   "cell_type": "code",
   "execution_count": 21,
   "metadata": {},
   "outputs": [
    {
     "name": "stdout",
     "output_type": "stream",
     "text": [
      "<class 'pandas.core.frame.DataFrame'>\n",
      "RangeIndex: 1 entries, 0 to 0\n",
      "Data columns (total 12 columns):\n",
      " #   Column                         Non-Null Count  Dtype \n",
      "---  ------                         --------------  ----- \n",
      " 0   pg_replication.query           1 non-null      object\n",
      " 1   pg_replication.metrics         1 non-null      object\n",
      " 2   pg_postmaster.query            1 non-null      object\n",
      " 3   pg_postmaster.metrics          1 non-null      object\n",
      " 4   pg_stat_user_tables.query      1 non-null      object\n",
      " 5   pg_stat_user_tables.metrics    1 non-null      object\n",
      " 6   pg_statio_user_tables.query    1 non-null      object\n",
      " 7   pg_statio_user_tables.metrics  1 non-null      object\n",
      " 8   pg_database.query              1 non-null      object\n",
      " 9   pg_database.metrics            1 non-null      object\n",
      " 10  pg_stat_statements.query       1 non-null      object\n",
      " 11  pg_stat_statements.metrics     1 non-null      object\n",
      "dtypes: object(12)\n",
      "memory usage: 224.0+ bytes\n"
     ]
    }
   ],
   "source": [
    "df.info()"
   ]
  },
  {
   "cell_type": "code",
   "execution_count": 22,
   "metadata": {},
   "outputs": [
    {
     "name": "stdout",
     "output_type": "stream",
     "text": [
      "Empty DataFrame\n",
      "Columns: []\n",
      "Index: []\n"
     ]
    },
    {
     "name": "stderr",
     "output_type": "stream",
     "text": [
      "<ipython-input-22-863961383d1d>:7: YAMLLoadWarning: calling yaml.load() without Loader=... is deprecated, as the default Loader is unsafe. Please read https://msg.pyyaml.org/load for full details.\n",
      "  return yaml.load(fi)\n",
      "<ipython-input-22-863961383d1d>:22: FutureWarning: pandas.io.json.json_normalize is deprecated, use pandas.json_normalize instead\n",
      "  df = json_normalize(filter_data(read_yaml(fn)), 'terms', [['id', 'fec'], ['id', 'thomas']])\n"
     ]
    }
   ],
   "source": [
    "import yaml\n",
    "import pandas as pd\n",
    "from pandas.io.json import json_normalize\n",
    "\n",
    "def read_yaml(fn):\n",
    "    with open(fn, 'r') as fi:\n",
    "        return yaml.load(fi)\n",
    "\n",
    "def filter_data(data):\n",
    "    result_data = []\n",
    "    for x in data:\n",
    "        if 'id' not in x:   continue\n",
    "        if 'fec' not in x['id']:    continue\n",
    "        if 'thomas' not in x['id']: continue\n",
    "        result_data.append(x)\n",
    "    return result_data\n",
    "\n",
    "\n",
    "fn = metric_list\n",
    "\n",
    "\n",
    "df = json_normalize(filter_data(read_yaml(fn)), 'terms', [['id', 'fec'], ['id', 'thomas']])\n",
    "print(df.head())\n",
    "\n",
    "df.to_csv('out.csv')"
   ]
  },
  {
   "cell_type": "code",
   "execution_count": 23,
   "metadata": {},
   "outputs": [
    {
     "name": "stderr",
     "output_type": "stream",
     "text": [
      "<ipython-input-23-1028e29d25f7>:1: YAMLLoadWarning: calling yaml.load() without Loader=... is deprecated, as the default Loader is unsafe. Please read https://msg.pyyaml.org/load for full details.\n",
      "  pd.io.json.json_normalize(yaml.load(metric_list), 'query', 'metrics')\n",
      "<ipython-input-23-1028e29d25f7>:1: FutureWarning: pandas.io.json.json_normalize is deprecated, use pandas.json_normalize instead\n",
      "  pd.io.json.json_normalize(yaml.load(metric_list), 'query', 'metrics')\n"
     ]
    },
    {
     "ename": "TypeError",
     "evalue": "string indices must be integers",
     "output_type": "error",
     "traceback": [
      "\u001b[0;31m---------------------------------------------------------------------------\u001b[0m",
      "\u001b[0;31mTypeError\u001b[0m                                 Traceback (most recent call last)",
      "\u001b[0;32m<ipython-input-23-1028e29d25f7>\u001b[0m in \u001b[0;36m<module>\u001b[0;34m\u001b[0m\n\u001b[0;32m----> 1\u001b[0;31m \u001b[0mpd\u001b[0m\u001b[0;34m.\u001b[0m\u001b[0mio\u001b[0m\u001b[0;34m.\u001b[0m\u001b[0mjson\u001b[0m\u001b[0;34m.\u001b[0m\u001b[0mjson_normalize\u001b[0m\u001b[0;34m(\u001b[0m\u001b[0myaml\u001b[0m\u001b[0;34m.\u001b[0m\u001b[0mload\u001b[0m\u001b[0;34m(\u001b[0m\u001b[0mmetric_list\u001b[0m\u001b[0;34m)\u001b[0m\u001b[0;34m,\u001b[0m \u001b[0;34m'query'\u001b[0m\u001b[0;34m,\u001b[0m \u001b[0;34m'metrics'\u001b[0m\u001b[0;34m)\u001b[0m\u001b[0;34m\u001b[0m\u001b[0;34m\u001b[0m\u001b[0m\n\u001b[0m",
      "\u001b[0;32m~/.local/lib/python3.8/site-packages/pandas/util/_decorators.py\u001b[0m in \u001b[0;36mwrapper\u001b[0;34m(*args, **kwargs)\u001b[0m\n\u001b[1;32m     64\u001b[0m     \u001b[0;32mdef\u001b[0m \u001b[0mwrapper\u001b[0m\u001b[0;34m(\u001b[0m\u001b[0;34m*\u001b[0m\u001b[0margs\u001b[0m\u001b[0;34m,\u001b[0m \u001b[0;34m**\u001b[0m\u001b[0mkwargs\u001b[0m\u001b[0;34m)\u001b[0m \u001b[0;34m->\u001b[0m \u001b[0mCallable\u001b[0m\u001b[0;34m[\u001b[0m\u001b[0;34m...\u001b[0m\u001b[0;34m,\u001b[0m \u001b[0mAny\u001b[0m\u001b[0;34m]\u001b[0m\u001b[0;34m:\u001b[0m\u001b[0;34m\u001b[0m\u001b[0;34m\u001b[0m\u001b[0m\n\u001b[1;32m     65\u001b[0m         \u001b[0mwarnings\u001b[0m\u001b[0;34m.\u001b[0m\u001b[0mwarn\u001b[0m\u001b[0;34m(\u001b[0m\u001b[0mwarning_msg\u001b[0m\u001b[0;34m,\u001b[0m \u001b[0mklass\u001b[0m\u001b[0;34m,\u001b[0m \u001b[0mstacklevel\u001b[0m\u001b[0;34m=\u001b[0m\u001b[0mstacklevel\u001b[0m\u001b[0;34m)\u001b[0m\u001b[0;34m\u001b[0m\u001b[0;34m\u001b[0m\u001b[0m\n\u001b[0;32m---> 66\u001b[0;31m         \u001b[0;32mreturn\u001b[0m \u001b[0malternative\u001b[0m\u001b[0;34m(\u001b[0m\u001b[0;34m*\u001b[0m\u001b[0margs\u001b[0m\u001b[0;34m,\u001b[0m \u001b[0;34m**\u001b[0m\u001b[0mkwargs\u001b[0m\u001b[0;34m)\u001b[0m\u001b[0;34m\u001b[0m\u001b[0;34m\u001b[0m\u001b[0m\n\u001b[0m\u001b[1;32m     67\u001b[0m \u001b[0;34m\u001b[0m\u001b[0m\n\u001b[1;32m     68\u001b[0m     \u001b[0;31m# adding deprecated directive to the docstring\u001b[0m\u001b[0;34m\u001b[0m\u001b[0;34m\u001b[0m\u001b[0;34m\u001b[0m\u001b[0m\n",
      "\u001b[0;32m~/.local/lib/python3.8/site-packages/pandas/io/json/_normalize.py\u001b[0m in \u001b[0;36m_json_normalize\u001b[0;34m(data, record_path, meta, meta_prefix, record_prefix, errors, sep, max_level)\u001b[0m\n\u001b[1;32m    339\u001b[0m                 \u001b[0mrecords\u001b[0m\u001b[0;34m.\u001b[0m\u001b[0mextend\u001b[0m\u001b[0;34m(\u001b[0m\u001b[0mrecs\u001b[0m\u001b[0;34m)\u001b[0m\u001b[0;34m\u001b[0m\u001b[0;34m\u001b[0m\u001b[0m\n\u001b[1;32m    340\u001b[0m \u001b[0;34m\u001b[0m\u001b[0m\n\u001b[0;32m--> 341\u001b[0;31m     \u001b[0m_recursive_extract\u001b[0m\u001b[0;34m(\u001b[0m\u001b[0mdata\u001b[0m\u001b[0;34m,\u001b[0m \u001b[0mrecord_path\u001b[0m\u001b[0;34m,\u001b[0m \u001b[0;34m{\u001b[0m\u001b[0;34m}\u001b[0m\u001b[0;34m,\u001b[0m \u001b[0mlevel\u001b[0m\u001b[0;34m=\u001b[0m\u001b[0;36m0\u001b[0m\u001b[0;34m)\u001b[0m\u001b[0;34m\u001b[0m\u001b[0;34m\u001b[0m\u001b[0m\n\u001b[0m\u001b[1;32m    342\u001b[0m \u001b[0;34m\u001b[0m\u001b[0m\n\u001b[1;32m    343\u001b[0m     \u001b[0mresult\u001b[0m \u001b[0;34m=\u001b[0m \u001b[0mDataFrame\u001b[0m\u001b[0;34m(\u001b[0m\u001b[0mrecords\u001b[0m\u001b[0;34m)\u001b[0m\u001b[0;34m\u001b[0m\u001b[0;34m\u001b[0m\u001b[0m\n",
      "\u001b[0;32m~/.local/lib/python3.8/site-packages/pandas/io/json/_normalize.py\u001b[0m in \u001b[0;36m_recursive_extract\u001b[0;34m(data, path, seen_meta, level)\u001b[0m\n\u001b[1;32m    311\u001b[0m         \u001b[0;32melse\u001b[0m\u001b[0;34m:\u001b[0m\u001b[0;34m\u001b[0m\u001b[0;34m\u001b[0m\u001b[0m\n\u001b[1;32m    312\u001b[0m             \u001b[0;32mfor\u001b[0m \u001b[0mobj\u001b[0m \u001b[0;32min\u001b[0m \u001b[0mdata\u001b[0m\u001b[0;34m:\u001b[0m\u001b[0;34m\u001b[0m\u001b[0;34m\u001b[0m\u001b[0m\n\u001b[0;32m--> 313\u001b[0;31m                 \u001b[0mrecs\u001b[0m \u001b[0;34m=\u001b[0m \u001b[0m_pull_records\u001b[0m\u001b[0;34m(\u001b[0m\u001b[0mobj\u001b[0m\u001b[0;34m,\u001b[0m \u001b[0mpath\u001b[0m\u001b[0;34m[\u001b[0m\u001b[0;36m0\u001b[0m\u001b[0;34m]\u001b[0m\u001b[0;34m)\u001b[0m\u001b[0;34m\u001b[0m\u001b[0;34m\u001b[0m\u001b[0m\n\u001b[0m\u001b[1;32m    314\u001b[0m                 recs = [\n\u001b[1;32m    315\u001b[0m                     \u001b[0mnested_to_record\u001b[0m\u001b[0;34m(\u001b[0m\u001b[0mr\u001b[0m\u001b[0;34m,\u001b[0m \u001b[0msep\u001b[0m\u001b[0;34m=\u001b[0m\u001b[0msep\u001b[0m\u001b[0;34m,\u001b[0m \u001b[0mmax_level\u001b[0m\u001b[0;34m=\u001b[0m\u001b[0mmax_level\u001b[0m\u001b[0;34m)\u001b[0m\u001b[0;34m\u001b[0m\u001b[0;34m\u001b[0m\u001b[0m\n",
      "\u001b[0;32m~/.local/lib/python3.8/site-packages/pandas/io/json/_normalize.py\u001b[0m in \u001b[0;36m_pull_records\u001b[0;34m(js, spec)\u001b[0m\n\u001b[1;32m    250\u001b[0m         \u001b[0;32mif\u001b[0m \u001b[0mhas\u001b[0m \u001b[0mnon\u001b[0m \u001b[0miterable\u001b[0m \u001b[0mvalue\u001b[0m\u001b[0;34m.\u001b[0m\u001b[0;34m\u001b[0m\u001b[0;34m\u001b[0m\u001b[0m\n\u001b[1;32m    251\u001b[0m         \"\"\"\n\u001b[0;32m--> 252\u001b[0;31m         \u001b[0mresult\u001b[0m \u001b[0;34m=\u001b[0m \u001b[0m_pull_field\u001b[0m\u001b[0;34m(\u001b[0m\u001b[0mjs\u001b[0m\u001b[0;34m,\u001b[0m \u001b[0mspec\u001b[0m\u001b[0;34m)\u001b[0m\u001b[0;34m\u001b[0m\u001b[0;34m\u001b[0m\u001b[0m\n\u001b[0m\u001b[1;32m    253\u001b[0m \u001b[0;34m\u001b[0m\u001b[0m\n\u001b[1;32m    254\u001b[0m         \u001b[0;31m# GH 31507 GH 30145, if result is not Iterable, raise TypeError if not\u001b[0m\u001b[0;34m\u001b[0m\u001b[0;34m\u001b[0m\u001b[0;34m\u001b[0m\u001b[0m\n",
      "\u001b[0;32m~/.local/lib/python3.8/site-packages/pandas/io/json/_normalize.py\u001b[0m in \u001b[0;36m_pull_field\u001b[0;34m(js, spec)\u001b[0m\n\u001b[1;32m    241\u001b[0m                 \u001b[0mresult\u001b[0m \u001b[0;34m=\u001b[0m \u001b[0mresult\u001b[0m\u001b[0;34m[\u001b[0m\u001b[0mfield\u001b[0m\u001b[0;34m]\u001b[0m\u001b[0;34m\u001b[0m\u001b[0;34m\u001b[0m\u001b[0m\n\u001b[1;32m    242\u001b[0m         \u001b[0;32melse\u001b[0m\u001b[0;34m:\u001b[0m\u001b[0;34m\u001b[0m\u001b[0;34m\u001b[0m\u001b[0m\n\u001b[0;32m--> 243\u001b[0;31m             \u001b[0mresult\u001b[0m \u001b[0;34m=\u001b[0m \u001b[0mresult\u001b[0m\u001b[0;34m[\u001b[0m\u001b[0mspec\u001b[0m\u001b[0;34m]\u001b[0m\u001b[0;34m\u001b[0m\u001b[0;34m\u001b[0m\u001b[0m\n\u001b[0m\u001b[1;32m    244\u001b[0m         \u001b[0;32mreturn\u001b[0m \u001b[0mresult\u001b[0m\u001b[0;34m\u001b[0m\u001b[0;34m\u001b[0m\u001b[0m\n\u001b[1;32m    245\u001b[0m \u001b[0;34m\u001b[0m\u001b[0m\n",
      "\u001b[0;31mTypeError\u001b[0m: string indices must be integers"
     ]
    }
   ],
   "source": [
    "pd.io.json.json_normalize(yaml.load(metric_list), 'query', 'metrics')"
   ]
  },
  {
   "cell_type": "code",
   "execution_count": 24,
   "metadata": {},
   "outputs": [
    {
     "name": "stderr",
     "output_type": "stream",
     "text": [
      "<ipython-input-22-863961383d1d>:7: YAMLLoadWarning: calling yaml.load() without Loader=... is deprecated, as the default Loader is unsafe. Please read https://msg.pyyaml.org/load for full details.\n",
      "  return yaml.load(fi)\n",
      "<ipython-input-24-5169d1081733>:3: FutureWarning: pandas.io.json.json_normalize is deprecated, use pandas.json_normalize instead\n",
      "  json_normalize(read_yaml(fn))\n"
     ]
    },
    {
     "data": {
      "text/html": [
       "<div>\n",
       "<style scoped>\n",
       "    .dataframe tbody tr th:only-of-type {\n",
       "        vertical-align: middle;\n",
       "    }\n",
       "\n",
       "    .dataframe tbody tr th {\n",
       "        vertical-align: top;\n",
       "    }\n",
       "\n",
       "    .dataframe thead th {\n",
       "        text-align: right;\n",
       "    }\n",
       "</style>\n",
       "<table border=\"1\" class=\"dataframe\">\n",
       "  <thead>\n",
       "    <tr style=\"text-align: right;\">\n",
       "      <th></th>\n",
       "      <th>pg_replication.query</th>\n",
       "      <th>pg_replication.metrics</th>\n",
       "      <th>pg_postmaster.query</th>\n",
       "      <th>pg_postmaster.metrics</th>\n",
       "      <th>pg_stat_user_tables.query</th>\n",
       "      <th>pg_stat_user_tables.metrics</th>\n",
       "      <th>pg_statio_user_tables.query</th>\n",
       "      <th>pg_statio_user_tables.metrics</th>\n",
       "      <th>pg_database.query</th>\n",
       "      <th>pg_database.metrics</th>\n",
       "      <th>pg_stat_statements.query</th>\n",
       "      <th>pg_stat_statements.metrics</th>\n",
       "    </tr>\n",
       "  </thead>\n",
       "  <tbody>\n",
       "    <tr>\n",
       "      <th>0</th>\n",
       "      <td>SELECT EXTRACT(EPOCH FROM (now() - pg_last_xac...</td>\n",
       "      <td>[{'lag': 'Replication lag behind master in sec...</td>\n",
       "      <td>SELECT pg_postmaster_start_time as start_time_...</td>\n",
       "      <td>[{'start_time_seconds': 'Time at which postmas...</td>\n",
       "      <td>SELECT schemaname, relname, seq_scan, seq_tup_...</td>\n",
       "      <td>[{'schemaname': 'Name of the schema that this ...</td>\n",
       "      <td>SELECT schemaname, relname, heap_blks_read, he...</td>\n",
       "      <td>[{'schemaname': 'Name of the schema that this ...</td>\n",
       "      <td>SELECT pg_database.datname, pg_database_size(...</td>\n",
       "      <td>[{'datname': 'Name of the database'}, {'size':...</td>\n",
       "      <td>SELECT pg_get_userbyid(userid) as user, pg_dat...</td>\n",
       "      <td>[{'user': 'The user who executed the statement...</td>\n",
       "    </tr>\n",
       "  </tbody>\n",
       "</table>\n",
       "</div>"
      ],
      "text/plain": [
       "                                pg_replication.query  \\\n",
       "0  SELECT EXTRACT(EPOCH FROM (now() - pg_last_xac...   \n",
       "\n",
       "                              pg_replication.metrics  \\\n",
       "0  [{'lag': 'Replication lag behind master in sec...   \n",
       "\n",
       "                                 pg_postmaster.query  \\\n",
       "0  SELECT pg_postmaster_start_time as start_time_...   \n",
       "\n",
       "                               pg_postmaster.metrics  \\\n",
       "0  [{'start_time_seconds': 'Time at which postmas...   \n",
       "\n",
       "                           pg_stat_user_tables.query  \\\n",
       "0  SELECT schemaname, relname, seq_scan, seq_tup_...   \n",
       "\n",
       "                         pg_stat_user_tables.metrics  \\\n",
       "0  [{'schemaname': 'Name of the schema that this ...   \n",
       "\n",
       "                         pg_statio_user_tables.query  \\\n",
       "0  SELECT schemaname, relname, heap_blks_read, he...   \n",
       "\n",
       "                       pg_statio_user_tables.metrics  \\\n",
       "0  [{'schemaname': 'Name of the schema that this ...   \n",
       "\n",
       "                                   pg_database.query  \\\n",
       "0   SELECT pg_database.datname, pg_database_size(...   \n",
       "\n",
       "                                 pg_database.metrics  \\\n",
       "0  [{'datname': 'Name of the database'}, {'size':...   \n",
       "\n",
       "                            pg_stat_statements.query  \\\n",
       "0  SELECT pg_get_userbyid(userid) as user, pg_dat...   \n",
       "\n",
       "                          pg_stat_statements.metrics  \n",
       "0  [{'user': 'The user who executed the statement...  "
      ]
     },
     "execution_count": 24,
     "metadata": {},
     "output_type": "execute_result"
    }
   ],
   "source": [
    "from pandas.io.json import json_normalize\n",
    "fn = metric_list\n",
    "json_normalize(read_yaml(fn))"
   ]
  },
  {
   "cell_type": "code",
   "execution_count": 16,
   "metadata": {},
   "outputs": [],
   "source": [
    "def flatten_json(y):\n",
    "    out = {}\n",
    "\n",
    "    def flatten(x, name=''):\n",
    "        if type(x) is dict:\n",
    "            for a in x:\n",
    "                flatten(x[a], name + a + '_')\n",
    "        elif type(x) is list:\n",
    "            i = 0\n",
    "            for a in x:\n",
    "                flatten(a, name + str(i) + '_')\n",
    "                i += 1\n",
    "        else:\n",
    "            out[name[:-1]] = x\n",
    "\n",
    "    flatten(y)\n",
    "    return out"
   ]
  },
  {
   "cell_type": "code",
   "execution_count": 17,
   "metadata": {},
   "outputs": [
    {
     "name": "stderr",
     "output_type": "stream",
     "text": [
      "<ipython-input-10-863961383d1d>:7: YAMLLoadWarning: calling yaml.load() without Loader=... is deprecated, as the default Loader is unsafe. Please read https://msg.pyyaml.org/load for full details.\n",
      "  return yaml.load(fi)\n",
      "<ipython-input-17-52bf524be8f4>:3: FutureWarning: pandas.io.json.json_normalize is deprecated, use pandas.json_normalize instead\n",
      "  json_normalize(flat)\n"
     ]
    },
    {
     "data": {
      "text/html": [
       "<div>\n",
       "<style scoped>\n",
       "    .dataframe tbody tr th:only-of-type {\n",
       "        vertical-align: middle;\n",
       "    }\n",
       "\n",
       "    .dataframe tbody tr th {\n",
       "        vertical-align: top;\n",
       "    }\n",
       "\n",
       "    .dataframe thead th {\n",
       "        text-align: right;\n",
       "    }\n",
       "</style>\n",
       "<table border=\"1\" class=\"dataframe\">\n",
       "  <thead>\n",
       "    <tr style=\"text-align: right;\">\n",
       "      <th></th>\n",
       "      <th>pg_replication_query</th>\n",
       "      <th>pg_replication_metrics_0_lag_usage</th>\n",
       "      <th>pg_replication_metrics_0_lag_description</th>\n",
       "      <th>pg_postmaster_query</th>\n",
       "      <th>pg_postmaster_metrics_0_start_time_seconds_usage</th>\n",
       "      <th>pg_postmaster_metrics_0_start_time_seconds_description</th>\n",
       "      <th>pg_stat_user_tables_query</th>\n",
       "      <th>pg_stat_user_tables_metrics_0_schemaname_usage</th>\n",
       "      <th>pg_stat_user_tables_metrics_0_schemaname_description</th>\n",
       "      <th>pg_stat_user_tables_metrics_1_relname_usage</th>\n",
       "      <th>...</th>\n",
       "      <th>pg_stat_statements_metrics_7_shared_blks_hit_usage</th>\n",
       "      <th>pg_stat_statements_metrics_7_shared_blks_hit_description</th>\n",
       "      <th>pg_stat_statements_metrics_8_shared_blks_read_usage</th>\n",
       "      <th>pg_stat_statements_metrics_8_shared_blks_read_description</th>\n",
       "      <th>pg_stat_statements_metrics_9_shared_blks_dirtied_usage</th>\n",
       "      <th>pg_stat_statements_metrics_9_shared_blks_dirtied_description</th>\n",
       "      <th>pg_stat_statements_metrics_10_shared_blks_written_usage</th>\n",
       "      <th>pg_stat_statements_metrics_10_shared_blks_written_description</th>\n",
       "      <th>pg_stat_statements_metrics_11_local_blks_hit_usage</th>\n",
       "      <th>pg_stat_statements_metrics_11_local_blks_hit_description</th>\n",
       "    </tr>\n",
       "  </thead>\n",
       "  <tbody>\n",
       "    <tr>\n",
       "      <th>0</th>\n",
       "      <td>SELECT EXTRACT(EPOCH FROM (now() - pg_last_xac...</td>\n",
       "      <td>GAUGE</td>\n",
       "      <td>Replication lag behind master in seconds</td>\n",
       "      <td>SELECT pg_postmaster_start_time as start_time_...</td>\n",
       "      <td>GAUGE</td>\n",
       "      <td>Time at which postmaster started</td>\n",
       "      <td>SELECT schemaname, relname, seq_scan, seq_tup_...</td>\n",
       "      <td>LABEL</td>\n",
       "      <td>Name of the schema that this table is in</td>\n",
       "      <td>LABEL</td>\n",
       "      <td>...</td>\n",
       "      <td>COUNTER</td>\n",
       "      <td>Total number of shared block cache hits by the...</td>\n",
       "      <td>COUNTER</td>\n",
       "      <td>Total number of shared blocks read by the stat...</td>\n",
       "      <td>COUNTER</td>\n",
       "      <td>Total number of shared blocks dirtied by the s...</td>\n",
       "      <td>COUNTER</td>\n",
       "      <td>Total number of shared blocks written by the s...</td>\n",
       "      <td>COUNTER</td>\n",
       "      <td>Total number of local block cache hits by the ...</td>\n",
       "    </tr>\n",
       "  </tbody>\n",
       "</table>\n",
       "<p>1 rows × 100 columns</p>\n",
       "</div>"
      ],
      "text/plain": [
       "                                pg_replication_query  \\\n",
       "0  SELECT EXTRACT(EPOCH FROM (now() - pg_last_xac...   \n",
       "\n",
       "  pg_replication_metrics_0_lag_usage  \\\n",
       "0                              GAUGE   \n",
       "\n",
       "   pg_replication_metrics_0_lag_description  \\\n",
       "0  Replication lag behind master in seconds   \n",
       "\n",
       "                                 pg_postmaster_query  \\\n",
       "0  SELECT pg_postmaster_start_time as start_time_...   \n",
       "\n",
       "  pg_postmaster_metrics_0_start_time_seconds_usage  \\\n",
       "0                                            GAUGE   \n",
       "\n",
       "  pg_postmaster_metrics_0_start_time_seconds_description  \\\n",
       "0                   Time at which postmaster started       \n",
       "\n",
       "                           pg_stat_user_tables_query  \\\n",
       "0  SELECT schemaname, relname, seq_scan, seq_tup_...   \n",
       "\n",
       "  pg_stat_user_tables_metrics_0_schemaname_usage  \\\n",
       "0                                          LABEL   \n",
       "\n",
       "  pg_stat_user_tables_metrics_0_schemaname_description  \\\n",
       "0           Name of the schema that this table is in     \n",
       "\n",
       "  pg_stat_user_tables_metrics_1_relname_usage  ...  \\\n",
       "0                                       LABEL  ...   \n",
       "\n",
       "  pg_stat_statements_metrics_7_shared_blks_hit_usage  \\\n",
       "0                                            COUNTER   \n",
       "\n",
       "  pg_stat_statements_metrics_7_shared_blks_hit_description  \\\n",
       "0  Total number of shared block cache hits by the...         \n",
       "\n",
       "  pg_stat_statements_metrics_8_shared_blks_read_usage  \\\n",
       "0                                            COUNTER    \n",
       "\n",
       "  pg_stat_statements_metrics_8_shared_blks_read_description  \\\n",
       "0  Total number of shared blocks read by the stat...          \n",
       "\n",
       "  pg_stat_statements_metrics_9_shared_blks_dirtied_usage  \\\n",
       "0                                            COUNTER       \n",
       "\n",
       "  pg_stat_statements_metrics_9_shared_blks_dirtied_description  \\\n",
       "0  Total number of shared blocks dirtied by the s...             \n",
       "\n",
       "  pg_stat_statements_metrics_10_shared_blks_written_usage  \\\n",
       "0                                            COUNTER        \n",
       "\n",
       "  pg_stat_statements_metrics_10_shared_blks_written_description  \\\n",
       "0  Total number of shared blocks written by the s...              \n",
       "\n",
       "  pg_stat_statements_metrics_11_local_blks_hit_usage  \\\n",
       "0                                            COUNTER   \n",
       "\n",
       "  pg_stat_statements_metrics_11_local_blks_hit_description  \n",
       "0  Total number of local block cache hits by the ...        \n",
       "\n",
       "[1 rows x 100 columns]"
      ]
     },
     "execution_count": 17,
     "metadata": {},
     "output_type": "execute_result"
    }
   ],
   "source": [
    "fn = metric_list\n",
    "flat = flatten_json(read_yaml(fn))\n",
    "json_normalize(flat)"
   ]
  },
  {
   "cell_type": "code",
   "execution_count": null,
   "metadata": {},
   "outputs": [],
   "source": []
  }
 ],
 "metadata": {
  "kernelspec": {
   "display_name": "Python 3",
   "language": "python",
   "name": "python3"
  },
  "language_info": {
   "codemirror_mode": {
    "name": "ipython",
    "version": 3
   },
   "file_extension": ".py",
   "mimetype": "text/x-python",
   "name": "python",
   "nbconvert_exporter": "python",
   "pygments_lexer": "ipython3",
   "version": "3.8.2"
  }
 },
 "nbformat": 4,
 "nbformat_minor": 4
}
