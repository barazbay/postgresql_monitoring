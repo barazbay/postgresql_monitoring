{
 "cells": [
  {
   "cell_type": "markdown",
   "metadata": {},
   "source": [
    "https://www.kaggle.com/stassl/displaying-inline-images-in-pandas-dataframe"
   ]
  },
  {
   "cell_type": "code",
   "execution_count": 1,
   "metadata": {},
   "outputs": [],
   "source": [
    "import glob\n",
    "import random\n",
    "import base64\n",
    "import pandas as pd\n",
    "\n",
    "from PIL import Image\n",
    "from io import BytesIO\n",
    "from IPython.display import HTML"
   ]
  },
  {
   "cell_type": "code",
   "execution_count": 2,
   "metadata": {},
   "outputs": [
    {
     "name": "stderr",
     "output_type": "stream",
     "text": [
      "<ipython-input-2-a8661c9d7d70>:1: FutureWarning: Passing a negative integer is deprecated in version 1.0 and will not be supported in future version. Instead, use None to not limit the column width.\n",
      "  pd.set_option('display.max_colwidth', -1)\n"
     ]
    }
   ],
   "source": [
    "pd.set_option('display.max_colwidth', -1)\n",
    "\n",
    "def get_thumbnail(path):\n",
    "    i = Image.open(path)\n",
    "    i.thumbnail((150, 150), Image.LANCZOS)\n",
    "    return i\n",
    "\n",
    "def image_base64(im):\n",
    "    if isinstance(im, str):\n",
    "        im = get_thumbnail(im)\n",
    "    with BytesIO() as buffer:\n",
    "        im.save(buffer, 'jpeg')\n",
    "        return base64.b64encode(buffer.getvalue()).decode()\n",
    "\n",
    "def image_formatter(im):\n",
    "    return f'<img src=\"data:image/jpeg;base64,{image_base64(im)}\">'\n",
    "\n"
   ]
  },
  {
   "cell_type": "code",
   "execution_count": 3,
   "metadata": {
    "scrolled": true
   },
   "outputs": [
    {
     "data": {
      "text/html": [
       "<div>\n",
       "<style scoped>\n",
       "    .dataframe tbody tr th:only-of-type {\n",
       "        vertical-align: middle;\n",
       "    }\n",
       "\n",
       "    .dataframe tbody tr th {\n",
       "        vertical-align: top;\n",
       "    }\n",
       "\n",
       "    .dataframe thead th {\n",
       "        text-align: right;\n",
       "    }\n",
       "</style>\n",
       "<table border=\"1\" class=\"dataframe\">\n",
       "  <thead>\n",
       "    <tr style=\"text-align: right;\">\n",
       "      <th></th>\n",
       "      <th>id</th>\n",
       "      <th>file</th>\n",
       "      <th>image</th>\n",
       "    </tr>\n",
       "  </thead>\n",
       "  <tbody>\n",
       "    <tr>\n",
       "      <th>0</th>\n",
       "      <td>1</td>\n",
       "      <td>./input/images/1.jpg</td>\n",
       "      <td>&lt;PIL.JpegImagePlugin.JpegImageFile image mode=RGB size=150x137 at 0x7F68C2DF31C0&gt;</td>\n",
       "    </tr>\n",
       "    <tr>\n",
       "      <th>1</th>\n",
       "      <td>2</td>\n",
       "      <td>./input/images/2.jpg</td>\n",
       "      <td>&lt;PIL.JpegImagePlugin.JpegImageFile image mode=RGB size=150x116 at 0x7F68C26F9850&gt;</td>\n",
       "    </tr>\n",
       "  </tbody>\n",
       "</table>\n",
       "</div>"
      ],
      "text/plain": [
       "   id                  file  \\\n",
       "0  1   ./input/images/1.jpg   \n",
       "1  2   ./input/images/2.jpg   \n",
       "\n",
       "                                                                               image  \n",
       "0  <PIL.JpegImagePlugin.JpegImageFile image mode=RGB size=150x137 at 0x7F68C2DF31C0>  \n",
       "1  <PIL.JpegImagePlugin.JpegImageFile image mode=RGB size=150x116 at 0x7F68C26F9850>  "
      ]
     },
     "execution_count": 3,
     "metadata": {},
     "output_type": "execute_result"
    }
   ],
   "source": [
    "dogs = pd.read_csv('./input/labels.csv')\n",
    "# dogs = dogs.sample(20)\n",
    "dogs['file'] = dogs.id.map(lambda id: f'./input/images/{id}.jpg')\n",
    "dogs['image'] = dogs.file.map(lambda f: get_thumbnail(f))\n",
    "dogs.head()"
   ]
  },
  {
   "cell_type": "code",
   "execution_count": 4,
   "metadata": {},
   "outputs": [
    {
     "data": {
      "text/html": [
       "<table border=\"1\" class=\"dataframe\">\n",
       "  <thead>\n",
       "    <tr style=\"text-align: right;\">\n",
       "      <th></th>\n",
       "      <th>id</th>\n",
       "      <th>image</th>\n",
       "    </tr>\n",
       "  </thead>\n",
       "  <tbody>\n",
       "    <tr>\n",
       "      <th>0</th>\n",
       "      <td>1</td>\n",
       "      <td><img src=\"data:image/jpeg;base64,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\"></td>\n",
       "    </tr>\n",
       "    <tr>\n",
       "      <th>1</th>\n",
       "      <td>2</td>\n",
       "      <td><img src=\"data:image/jpeg;base64,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\"></td>\n",
       "    </tr>\n",
       "  </tbody>\n",
       "</table>"
      ],
      "text/plain": [
       "<IPython.core.display.HTML object>"
      ]
     },
     "execution_count": 4,
     "metadata": {},
     "output_type": "execute_result"
    }
   ],
   "source": [
    "# displaying PIL.Image objects embedded in dataframe\n",
    "HTML(dogs[['id', 'image']].to_html(formatters={'image': image_formatter}, escape=False))"
   ]
  },
  {
   "cell_type": "code",
   "execution_count": null,
   "metadata": {},
   "outputs": [],
   "source": []
  }
 ],
 "metadata": {
  "kernelspec": {
   "display_name": "Python 3",
   "language": "python",
   "name": "python3"
  },
  "language_info": {
   "codemirror_mode": {
    "name": "ipython",
    "version": 3
   },
   "file_extension": ".py",
   "mimetype": "text/x-python",
   "name": "python",
   "nbconvert_exporter": "python",
   "pygments_lexer": "ipython3",
   "version": "3.8.2"
  }
 },
 "nbformat": 4,
 "nbformat_minor": 4
}
